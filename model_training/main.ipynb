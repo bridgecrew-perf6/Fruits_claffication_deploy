{
 "cells": [
  {
   "cell_type": "code",
   "execution_count": 28,
   "metadata": {},
   "outputs": [],
   "source": [
    "import pandas as pd\n",
    "import numpy as np\n",
    "import matplotlib.pyplot as plt\n",
    "import tensorflow as tf\n",
    "from tensorflow import keras\n",
    "from tensorflow.keras.models import Sequential\n",
    "from tensorflow.keras.layers import Dense, Dropout"
   ]
  },
  {
   "cell_type": "code",
   "execution_count": 29,
   "metadata": {},
   "outputs": [],
   "source": [
    "import sklearn\n",
    "from sklearn.preprocessing import OneHotEncoder\n",
    "from sklearn.model_selection import train_test_split"
   ]
  },
  {
   "cell_type": "code",
   "execution_count": 30,
   "metadata": {},
   "outputs": [],
   "source": [
    "fruits_data = pd.read_csv(\"fruits.csv\")"
   ]
  },
  {
   "cell_type": "code",
   "execution_count": 31,
   "metadata": {},
   "outputs": [
    {
     "data": {
      "text/html": [
       "<div>\n",
       "<style scoped>\n",
       "    .dataframe tbody tr th:only-of-type {\n",
       "        vertical-align: middle;\n",
       "    }\n",
       "\n",
       "    .dataframe tbody tr th {\n",
       "        vertical-align: top;\n",
       "    }\n",
       "\n",
       "    .dataframe thead th {\n",
       "        text-align: right;\n",
       "    }\n",
       "</style>\n",
       "<table border=\"1\" class=\"dataframe\">\n",
       "  <thead>\n",
       "    <tr style=\"text-align: right;\">\n",
       "      <th></th>\n",
       "      <th>weight</th>\n",
       "      <th>peel color</th>\n",
       "      <th>flesh color</th>\n",
       "      <th>texture</th>\n",
       "      <th>size</th>\n",
       "      <th>name</th>\n",
       "    </tr>\n",
       "  </thead>\n",
       "  <tbody>\n",
       "    <tr>\n",
       "      <th>0</th>\n",
       "      <td>172</td>\n",
       "      <td>82</td>\n",
       "      <td>48</td>\n",
       "      <td>11</td>\n",
       "      <td>68</td>\n",
       "      <td>mango</td>\n",
       "    </tr>\n",
       "    <tr>\n",
       "      <th>1</th>\n",
       "      <td>164</td>\n",
       "      <td>40</td>\n",
       "      <td>55</td>\n",
       "      <td>27</td>\n",
       "      <td>168</td>\n",
       "      <td>mango</td>\n",
       "    </tr>\n",
       "    <tr>\n",
       "      <th>2</th>\n",
       "      <td>172</td>\n",
       "      <td>53</td>\n",
       "      <td>44</td>\n",
       "      <td>23</td>\n",
       "      <td>64</td>\n",
       "      <td>mango</td>\n",
       "    </tr>\n",
       "    <tr>\n",
       "      <th>3</th>\n",
       "      <td>141</td>\n",
       "      <td>73</td>\n",
       "      <td>35</td>\n",
       "      <td>20</td>\n",
       "      <td>114</td>\n",
       "      <td>mango</td>\n",
       "    </tr>\n",
       "    <tr>\n",
       "      <th>4</th>\n",
       "      <td>155</td>\n",
       "      <td>73</td>\n",
       "      <td>55</td>\n",
       "      <td>14</td>\n",
       "      <td>80</td>\n",
       "      <td>mango</td>\n",
       "    </tr>\n",
       "    <tr>\n",
       "      <th>5</th>\n",
       "      <td>157</td>\n",
       "      <td>75</td>\n",
       "      <td>45</td>\n",
       "      <td>29</td>\n",
       "      <td>135</td>\n",
       "      <td>mango</td>\n",
       "    </tr>\n",
       "    <tr>\n",
       "      <th>6</th>\n",
       "      <td>149</td>\n",
       "      <td>46</td>\n",
       "      <td>51</td>\n",
       "      <td>14</td>\n",
       "      <td>152</td>\n",
       "      <td>mango</td>\n",
       "    </tr>\n",
       "    <tr>\n",
       "      <th>7</th>\n",
       "      <td>186</td>\n",
       "      <td>65</td>\n",
       "      <td>53</td>\n",
       "      <td>20</td>\n",
       "      <td>156</td>\n",
       "      <td>mango</td>\n",
       "    </tr>\n",
       "    <tr>\n",
       "      <th>8</th>\n",
       "      <td>194</td>\n",
       "      <td>46</td>\n",
       "      <td>36</td>\n",
       "      <td>21</td>\n",
       "      <td>170</td>\n",
       "      <td>mango</td>\n",
       "    </tr>\n",
       "    <tr>\n",
       "      <th>9</th>\n",
       "      <td>188</td>\n",
       "      <td>57</td>\n",
       "      <td>48</td>\n",
       "      <td>22</td>\n",
       "      <td>135</td>\n",
       "      <td>mango</td>\n",
       "    </tr>\n",
       "  </tbody>\n",
       "</table>\n",
       "</div>"
      ],
      "text/plain": [
       "   weight  peel color  flesh color  texture  size   name\n",
       "0     172          82           48       11    68  mango\n",
       "1     164          40           55       27   168  mango\n",
       "2     172          53           44       23    64  mango\n",
       "3     141          73           35       20   114  mango\n",
       "4     155          73           55       14    80  mango\n",
       "5     157          75           45       29   135  mango\n",
       "6     149          46           51       14   152  mango\n",
       "7     186          65           53       20   156  mango\n",
       "8     194          46           36       21   170  mango\n",
       "9     188          57           48       22   135  mango"
      ]
     },
     "execution_count": 31,
     "metadata": {},
     "output_type": "execute_result"
    }
   ],
   "source": [
    "fruits_data.head(10)"
   ]
  },
  {
   "cell_type": "code",
   "execution_count": 32,
   "metadata": {},
   "outputs": [
    {
     "data": {
      "text/html": [
       "<div>\n",
       "<style scoped>\n",
       "    .dataframe tbody tr th:only-of-type {\n",
       "        vertical-align: middle;\n",
       "    }\n",
       "\n",
       "    .dataframe tbody tr th {\n",
       "        vertical-align: top;\n",
       "    }\n",
       "\n",
       "    .dataframe thead th {\n",
       "        text-align: right;\n",
       "    }\n",
       "</style>\n",
       "<table border=\"1\" class=\"dataframe\">\n",
       "  <thead>\n",
       "    <tr style=\"text-align: right;\">\n",
       "      <th></th>\n",
       "      <th>weight</th>\n",
       "      <th>peel color</th>\n",
       "      <th>flesh color</th>\n",
       "      <th>texture</th>\n",
       "      <th>size</th>\n",
       "    </tr>\n",
       "  </thead>\n",
       "  <tbody>\n",
       "    <tr>\n",
       "      <th>0</th>\n",
       "      <td>172</td>\n",
       "      <td>82</td>\n",
       "      <td>48</td>\n",
       "      <td>11</td>\n",
       "      <td>68</td>\n",
       "    </tr>\n",
       "    <tr>\n",
       "      <th>1</th>\n",
       "      <td>164</td>\n",
       "      <td>40</td>\n",
       "      <td>55</td>\n",
       "      <td>27</td>\n",
       "      <td>168</td>\n",
       "    </tr>\n",
       "    <tr>\n",
       "      <th>2</th>\n",
       "      <td>172</td>\n",
       "      <td>53</td>\n",
       "      <td>44</td>\n",
       "      <td>23</td>\n",
       "      <td>64</td>\n",
       "    </tr>\n",
       "    <tr>\n",
       "      <th>3</th>\n",
       "      <td>141</td>\n",
       "      <td>73</td>\n",
       "      <td>35</td>\n",
       "      <td>20</td>\n",
       "      <td>114</td>\n",
       "    </tr>\n",
       "    <tr>\n",
       "      <th>4</th>\n",
       "      <td>155</td>\n",
       "      <td>73</td>\n",
       "      <td>55</td>\n",
       "      <td>14</td>\n",
       "      <td>80</td>\n",
       "    </tr>\n",
       "  </tbody>\n",
       "</table>\n",
       "</div>"
      ],
      "text/plain": [
       "   weight  peel color  flesh color  texture  size\n",
       "0     172          82           48       11    68\n",
       "1     164          40           55       27   168\n",
       "2     172          53           44       23    64\n",
       "3     141          73           35       20   114\n",
       "4     155          73           55       14    80"
      ]
     },
     "execution_count": 32,
     "metadata": {},
     "output_type": "execute_result"
    }
   ],
   "source": [
    "x = fruits_data.drop(columns=\"name\")\n",
    "x.head()"
   ]
  },
  {
   "cell_type": "code",
   "execution_count": 33,
   "metadata": {},
   "outputs": [],
   "source": [
    "enc = OneHotEncoder(handle_unknown='ignore')\n",
    "enc_df = pd.DataFrame(enc.fit_transform(fruits_data[[\"name\"]]).toarray())\n",
    "y = enc_df"
   ]
  },
  {
   "cell_type": "code",
   "execution_count": 34,
   "metadata": {},
   "outputs": [
    {
     "data": {
      "text/html": [
       "<div>\n",
       "<style scoped>\n",
       "    .dataframe tbody tr th:only-of-type {\n",
       "        vertical-align: middle;\n",
       "    }\n",
       "\n",
       "    .dataframe tbody tr th {\n",
       "        vertical-align: top;\n",
       "    }\n",
       "\n",
       "    .dataframe thead th {\n",
       "        text-align: right;\n",
       "    }\n",
       "</style>\n",
       "<table border=\"1\" class=\"dataframe\">\n",
       "  <thead>\n",
       "    <tr style=\"text-align: right;\">\n",
       "      <th></th>\n",
       "      <th>0</th>\n",
       "      <th>1</th>\n",
       "      <th>2</th>\n",
       "      <th>3</th>\n",
       "      <th>4</th>\n",
       "    </tr>\n",
       "  </thead>\n",
       "  <tbody>\n",
       "    <tr>\n",
       "      <th>0</th>\n",
       "      <td>0.0</td>\n",
       "      <td>1.0</td>\n",
       "      <td>0.0</td>\n",
       "      <td>0.0</td>\n",
       "      <td>0.0</td>\n",
       "    </tr>\n",
       "    <tr>\n",
       "      <th>1</th>\n",
       "      <td>0.0</td>\n",
       "      <td>1.0</td>\n",
       "      <td>0.0</td>\n",
       "      <td>0.0</td>\n",
       "      <td>0.0</td>\n",
       "    </tr>\n",
       "    <tr>\n",
       "      <th>2</th>\n",
       "      <td>0.0</td>\n",
       "      <td>1.0</td>\n",
       "      <td>0.0</td>\n",
       "      <td>0.0</td>\n",
       "      <td>0.0</td>\n",
       "    </tr>\n",
       "    <tr>\n",
       "      <th>3</th>\n",
       "      <td>0.0</td>\n",
       "      <td>1.0</td>\n",
       "      <td>0.0</td>\n",
       "      <td>0.0</td>\n",
       "      <td>0.0</td>\n",
       "    </tr>\n",
       "    <tr>\n",
       "      <th>4</th>\n",
       "      <td>0.0</td>\n",
       "      <td>1.0</td>\n",
       "      <td>0.0</td>\n",
       "      <td>0.0</td>\n",
       "      <td>0.0</td>\n",
       "    </tr>\n",
       "    <tr>\n",
       "      <th>5</th>\n",
       "      <td>0.0</td>\n",
       "      <td>1.0</td>\n",
       "      <td>0.0</td>\n",
       "      <td>0.0</td>\n",
       "      <td>0.0</td>\n",
       "    </tr>\n",
       "    <tr>\n",
       "      <th>6</th>\n",
       "      <td>0.0</td>\n",
       "      <td>1.0</td>\n",
       "      <td>0.0</td>\n",
       "      <td>0.0</td>\n",
       "      <td>0.0</td>\n",
       "    </tr>\n",
       "    <tr>\n",
       "      <th>7</th>\n",
       "      <td>0.0</td>\n",
       "      <td>1.0</td>\n",
       "      <td>0.0</td>\n",
       "      <td>0.0</td>\n",
       "      <td>0.0</td>\n",
       "    </tr>\n",
       "    <tr>\n",
       "      <th>8</th>\n",
       "      <td>0.0</td>\n",
       "      <td>1.0</td>\n",
       "      <td>0.0</td>\n",
       "      <td>0.0</td>\n",
       "      <td>0.0</td>\n",
       "    </tr>\n",
       "    <tr>\n",
       "      <th>9</th>\n",
       "      <td>0.0</td>\n",
       "      <td>1.0</td>\n",
       "      <td>0.0</td>\n",
       "      <td>0.0</td>\n",
       "      <td>0.0</td>\n",
       "    </tr>\n",
       "  </tbody>\n",
       "</table>\n",
       "</div>"
      ],
      "text/plain": [
       "     0    1    2    3    4\n",
       "0  0.0  1.0  0.0  0.0  0.0\n",
       "1  0.0  1.0  0.0  0.0  0.0\n",
       "2  0.0  1.0  0.0  0.0  0.0\n",
       "3  0.0  1.0  0.0  0.0  0.0\n",
       "4  0.0  1.0  0.0  0.0  0.0\n",
       "5  0.0  1.0  0.0  0.0  0.0\n",
       "6  0.0  1.0  0.0  0.0  0.0\n",
       "7  0.0  1.0  0.0  0.0  0.0\n",
       "8  0.0  1.0  0.0  0.0  0.0\n",
       "9  0.0  1.0  0.0  0.0  0.0"
      ]
     },
     "execution_count": 34,
     "metadata": {},
     "output_type": "execute_result"
    }
   ],
   "source": [
    "y.head(10)"
   ]
  },
  {
   "cell_type": "code",
   "execution_count": 35,
   "metadata": {},
   "outputs": [],
   "source": [
    "x_train,x_test,y_train,y_test = train_test_split(x, y,test_size=0.3)"
   ]
  },
  {
   "cell_type": "code",
   "execution_count": 36,
   "metadata": {},
   "outputs": [
    {
     "data": {
      "text/html": [
       "<div>\n",
       "<style scoped>\n",
       "    .dataframe tbody tr th:only-of-type {\n",
       "        vertical-align: middle;\n",
       "    }\n",
       "\n",
       "    .dataframe tbody tr th {\n",
       "        vertical-align: top;\n",
       "    }\n",
       "\n",
       "    .dataframe thead th {\n",
       "        text-align: right;\n",
       "    }\n",
       "</style>\n",
       "<table border=\"1\" class=\"dataframe\">\n",
       "  <thead>\n",
       "    <tr style=\"text-align: right;\">\n",
       "      <th></th>\n",
       "      <th>weight</th>\n",
       "      <th>peel color</th>\n",
       "      <th>flesh color</th>\n",
       "      <th>texture</th>\n",
       "      <th>size</th>\n",
       "    </tr>\n",
       "  </thead>\n",
       "  <tbody>\n",
       "    <tr>\n",
       "      <th>3889</th>\n",
       "      <td>228</td>\n",
       "      <td>6</td>\n",
       "      <td>69</td>\n",
       "      <td>8</td>\n",
       "      <td>64</td>\n",
       "    </tr>\n",
       "    <tr>\n",
       "      <th>2950</th>\n",
       "      <td>1193</td>\n",
       "      <td>52</td>\n",
       "      <td>44</td>\n",
       "      <td>78</td>\n",
       "      <td>340</td>\n",
       "    </tr>\n",
       "    <tr>\n",
       "      <th>1856</th>\n",
       "      <td>195</td>\n",
       "      <td>73</td>\n",
       "      <td>52</td>\n",
       "      <td>44</td>\n",
       "      <td>61</td>\n",
       "    </tr>\n",
       "    <tr>\n",
       "      <th>4618</th>\n",
       "      <td>47</td>\n",
       "      <td>247</td>\n",
       "      <td>208</td>\n",
       "      <td>84</td>\n",
       "      <td>1996</td>\n",
       "    </tr>\n",
       "    <tr>\n",
       "      <th>607</th>\n",
       "      <td>193</td>\n",
       "      <td>23</td>\n",
       "      <td>63</td>\n",
       "      <td>27</td>\n",
       "      <td>118</td>\n",
       "    </tr>\n",
       "  </tbody>\n",
       "</table>\n",
       "</div>"
      ],
      "text/plain": [
       "      weight  peel color  flesh color  texture  size\n",
       "3889     228           6           69        8    64\n",
       "2950    1193          52           44       78   340\n",
       "1856     195          73           52       44    61\n",
       "4618      47         247          208       84  1996\n",
       "607      193          23           63       27   118"
      ]
     },
     "execution_count": 36,
     "metadata": {},
     "output_type": "execute_result"
    }
   ],
   "source": [
    "x_train.head()"
   ]
  },
  {
   "cell_type": "code",
   "execution_count": 37,
   "metadata": {},
   "outputs": [
    {
     "data": {
      "text/html": [
       "<div>\n",
       "<style scoped>\n",
       "    .dataframe tbody tr th:only-of-type {\n",
       "        vertical-align: middle;\n",
       "    }\n",
       "\n",
       "    .dataframe tbody tr th {\n",
       "        vertical-align: top;\n",
       "    }\n",
       "\n",
       "    .dataframe thead th {\n",
       "        text-align: right;\n",
       "    }\n",
       "</style>\n",
       "<table border=\"1\" class=\"dataframe\">\n",
       "  <thead>\n",
       "    <tr style=\"text-align: right;\">\n",
       "      <th></th>\n",
       "      <th>0</th>\n",
       "      <th>1</th>\n",
       "      <th>2</th>\n",
       "      <th>3</th>\n",
       "      <th>4</th>\n",
       "    </tr>\n",
       "  </thead>\n",
       "  <tbody>\n",
       "    <tr>\n",
       "      <th>3889</th>\n",
       "      <td>1.0</td>\n",
       "      <td>0.0</td>\n",
       "      <td>0.0</td>\n",
       "      <td>0.0</td>\n",
       "      <td>0.0</td>\n",
       "    </tr>\n",
       "    <tr>\n",
       "      <th>2950</th>\n",
       "      <td>0.0</td>\n",
       "      <td>0.0</td>\n",
       "      <td>0.0</td>\n",
       "      <td>1.0</td>\n",
       "      <td>0.0</td>\n",
       "    </tr>\n",
       "    <tr>\n",
       "      <th>1856</th>\n",
       "      <td>0.0</td>\n",
       "      <td>0.0</td>\n",
       "      <td>1.0</td>\n",
       "      <td>0.0</td>\n",
       "      <td>0.0</td>\n",
       "    </tr>\n",
       "    <tr>\n",
       "      <th>4618</th>\n",
       "      <td>0.0</td>\n",
       "      <td>0.0</td>\n",
       "      <td>0.0</td>\n",
       "      <td>0.0</td>\n",
       "      <td>1.0</td>\n",
       "    </tr>\n",
       "    <tr>\n",
       "      <th>607</th>\n",
       "      <td>0.0</td>\n",
       "      <td>1.0</td>\n",
       "      <td>0.0</td>\n",
       "      <td>0.0</td>\n",
       "      <td>0.0</td>\n",
       "    </tr>\n",
       "  </tbody>\n",
       "</table>\n",
       "</div>"
      ],
      "text/plain": [
       "        0    1    2    3    4\n",
       "3889  1.0  0.0  0.0  0.0  0.0\n",
       "2950  0.0  0.0  0.0  1.0  0.0\n",
       "1856  0.0  0.0  1.0  0.0  0.0\n",
       "4618  0.0  0.0  0.0  0.0  1.0\n",
       "607   0.0  1.0  0.0  0.0  0.0"
      ]
     },
     "execution_count": 37,
     "metadata": {},
     "output_type": "execute_result"
    }
   ],
   "source": [
    "y_train.head()"
   ]
  },
  {
   "cell_type": "code",
   "execution_count": 38,
   "metadata": {},
   "outputs": [],
   "source": [
    "model = Sequential()\n",
    "model.add(Dense(5, input_shape = (5,), activation='relu'))\n",
    "model.add(Dense(125, activation='sigmoid'))\n",
    "model.add(Dense(5, activation = 'softmax'))"
   ]
  },
  {
   "cell_type": "code",
   "execution_count": 39,
   "metadata": {},
   "outputs": [
    {
     "name": "stdout",
     "output_type": "stream",
     "text": [
      "Model: \"sequential_1\"\n",
      "_________________________________________________________________\n",
      "Layer (type)                 Output Shape              Param #   \n",
      "=================================================================\n",
      "dense_3 (Dense)              (None, 5)                 30        \n",
      "_________________________________________________________________\n",
      "dense_4 (Dense)              (None, 125)               750       \n",
      "_________________________________________________________________\n",
      "dense_5 (Dense)              (None, 5)                 630       \n",
      "=================================================================\n",
      "Total params: 1,410\n",
      "Trainable params: 1,410\n",
      "Non-trainable params: 0\n",
      "_________________________________________________________________\n"
     ]
    }
   ],
   "source": [
    "model.summary()"
   ]
  },
  {
   "cell_type": "code",
   "execution_count": 40,
   "metadata": {},
   "outputs": [],
   "source": [
    "model.compile(optimizer='adam', loss='categorical_crossentropy', metrics=['accuracy'])"
   ]
  },
  {
   "cell_type": "code",
   "execution_count": 41,
   "metadata": {},
   "outputs": [
    {
     "name": "stdout",
     "output_type": "stream",
     "text": [
      "Epoch 1/100\n",
      "110/110 [==============================] - 0s 1ms/step - loss: 0.9891 - accuracy: 0.7326\n",
      "Epoch 2/100\n",
      "110/110 [==============================] - 0s 1ms/step - loss: 0.4786 - accuracy: 0.8917\n",
      "Epoch 3/100\n",
      "110/110 [==============================] - 0s 1ms/step - loss: 0.3210 - accuracy: 0.9131\n",
      "Epoch 4/100\n",
      "110/110 [==============================] - 0s 1ms/step - loss: 0.2473 - accuracy: 0.9214\n",
      "Epoch 5/100\n",
      "110/110 [==============================] - 0s 1ms/step - loss: 0.1976 - accuracy: 0.9343\n",
      "Epoch 6/100\n",
      "110/110 [==============================] - 0s 1ms/step - loss: 0.1593 - accuracy: 0.9500\n",
      "Epoch 7/100\n",
      "110/110 [==============================] - 0s 1ms/step - loss: 0.1319 - accuracy: 0.9597\n",
      "Epoch 8/100\n",
      "110/110 [==============================] - 0s 1ms/step - loss: 0.1139 - accuracy: 0.9649\n",
      "Epoch 9/100\n",
      "110/110 [==============================] - 0s 1ms/step - loss: 0.0975 - accuracy: 0.9669\n",
      "Epoch 10/100\n",
      "110/110 [==============================] - 0s 1ms/step - loss: 0.0897 - accuracy: 0.9663\n",
      "Epoch 11/100\n",
      "110/110 [==============================] - 0s 1ms/step - loss: 0.0835 - accuracy: 0.9680\n",
      "Epoch 12/100\n",
      "110/110 [==============================] - 0s 1ms/step - loss: 0.0796 - accuracy: 0.9691\n",
      "Epoch 13/100\n",
      "110/110 [==============================] - 0s 1ms/step - loss: 0.0742 - accuracy: 0.9711\n",
      "Epoch 14/100\n",
      "110/110 [==============================] - 0s 1ms/step - loss: 0.0719 - accuracy: 0.9737\n",
      "Epoch 15/100\n",
      "110/110 [==============================] - 0s 1ms/step - loss: 0.0726 - accuracy: 0.9723\n",
      "Epoch 16/100\n",
      "110/110 [==============================] - 0s 1ms/step - loss: 0.0724 - accuracy: 0.9720\n",
      "Epoch 17/100\n",
      "110/110 [==============================] - 0s 1ms/step - loss: 0.0687 - accuracy: 0.9711\n",
      "Epoch 18/100\n",
      "110/110 [==============================] - 0s 1ms/step - loss: 0.0714 - accuracy: 0.9726\n",
      "Epoch 19/100\n",
      "110/110 [==============================] - 0s 936us/step - loss: 0.0675 - accuracy: 0.9717\n",
      "Epoch 20/100\n",
      "110/110 [==============================] - 0s 1ms/step - loss: 0.0652 - accuracy: 0.9743\n",
      "Epoch 21/100\n",
      "110/110 [==============================] - 0s 1ms/step - loss: 0.0641 - accuracy: 0.9743\n",
      "Epoch 22/100\n",
      "110/110 [==============================] - 0s 1ms/step - loss: 0.0645 - accuracy: 0.9740\n",
      "Epoch 23/100\n",
      "110/110 [==============================] - 0s 2ms/step - loss: 0.0680 - accuracy: 0.9717\n",
      "Epoch 24/100\n",
      "110/110 [==============================] - 0s 1ms/step - loss: 0.0643 - accuracy: 0.9731\n",
      "Epoch 25/100\n",
      "110/110 [==============================] - 0s 1ms/step - loss: 0.0631 - accuracy: 0.9760\n",
      "Epoch 26/100\n",
      "110/110 [==============================] - 0s 1ms/step - loss: 0.0611 - accuracy: 0.9749\n",
      "Epoch 27/100\n",
      "110/110 [==============================] - 0s 1ms/step - loss: 0.0676 - accuracy: 0.9720\n",
      "Epoch 28/100\n",
      "110/110 [==============================] - 0s 1ms/step - loss: 0.0638 - accuracy: 0.9751\n",
      "Epoch 29/100\n",
      "110/110 [==============================] - 0s 1ms/step - loss: 0.0611 - accuracy: 0.9729\n",
      "Epoch 30/100\n",
      "110/110 [==============================] - 0s 1ms/step - loss: 0.0598 - accuracy: 0.9757\n",
      "Epoch 31/100\n",
      "110/110 [==============================] - 0s 1ms/step - loss: 0.0633 - accuracy: 0.9726\n",
      "Epoch 32/100\n",
      "110/110 [==============================] - 0s 1ms/step - loss: 0.0624 - accuracy: 0.9760\n",
      "Epoch 33/100\n",
      "110/110 [==============================] - 0s 1ms/step - loss: 0.0605 - accuracy: 0.9746\n",
      "Epoch 34/100\n",
      "110/110 [==============================] - 0s 1ms/step - loss: 0.0623 - accuracy: 0.9726\n",
      "Epoch 35/100\n",
      "110/110 [==============================] - 0s 1ms/step - loss: 0.0609 - accuracy: 0.9746\n",
      "Epoch 36/100\n",
      "110/110 [==============================] - 0s 1ms/step - loss: 0.0596 - accuracy: 0.9763\n",
      "Epoch 37/100\n",
      "110/110 [==============================] - 0s 1ms/step - loss: 0.0628 - accuracy: 0.9740\n",
      "Epoch 38/100\n",
      "110/110 [==============================] - 0s 1ms/step - loss: 0.0626 - accuracy: 0.9740\n",
      "Epoch 39/100\n",
      "110/110 [==============================] - 0s 1ms/step - loss: 0.0623 - accuracy: 0.9754\n",
      "Epoch 40/100\n",
      "110/110 [==============================] - 0s 1ms/step - loss: 0.0609 - accuracy: 0.9723\n",
      "Epoch 41/100\n",
      "110/110 [==============================] - 0s 1ms/step - loss: 0.0596 - accuracy: 0.9763\n",
      "Epoch 42/100\n",
      "110/110 [==============================] - 0s 1ms/step - loss: 0.0615 - accuracy: 0.9740\n",
      "Epoch 43/100\n",
      "110/110 [==============================] - 0s 1ms/step - loss: 0.0594 - accuracy: 0.9754\n",
      "Epoch 44/100\n",
      "110/110 [==============================] - 0s 1ms/step - loss: 0.0604 - accuracy: 0.9774\n",
      "Epoch 45/100\n",
      "110/110 [==============================] - 0s 1ms/step - loss: 0.0626 - accuracy: 0.9734\n",
      "Epoch 46/100\n",
      "110/110 [==============================] - 0s 1ms/step - loss: 0.0592 - accuracy: 0.9760\n",
      "Epoch 47/100\n",
      "110/110 [==============================] - 0s 1ms/step - loss: 0.0620 - accuracy: 0.9737\n",
      "Epoch 48/100\n",
      "110/110 [==============================] - 0s 1ms/step - loss: 0.0578 - accuracy: 0.9757\n",
      "Epoch 49/100\n",
      "110/110 [==============================] - 0s 1ms/step - loss: 0.0583 - accuracy: 0.9754\n",
      "Epoch 50/100\n",
      "110/110 [==============================] - 0s 982us/step - loss: 0.0567 - accuracy: 0.9751\n",
      "Epoch 51/100\n",
      "110/110 [==============================] - 0s 1ms/step - loss: 0.0588 - accuracy: 0.9757\n",
      "Epoch 52/100\n",
      "110/110 [==============================] - 0s 1ms/step - loss: 0.0602 - accuracy: 0.9737\n",
      "Epoch 53/100\n",
      "110/110 [==============================] - 0s 1ms/step - loss: 0.0585 - accuracy: 0.9766\n",
      "Epoch 54/100\n",
      "110/110 [==============================] - 0s 1ms/step - loss: 0.0594 - accuracy: 0.9754\n",
      "Epoch 55/100\n",
      "110/110 [==============================] - 0s 1ms/step - loss: 0.0581 - accuracy: 0.9774\n",
      "Epoch 56/100\n",
      "110/110 [==============================] - 0s 1ms/step - loss: 0.0594 - accuracy: 0.9757\n",
      "Epoch 57/100\n",
      "110/110 [==============================] - 0s 982us/step - loss: 0.0582 - accuracy: 0.9749\n",
      "Epoch 58/100\n",
      "110/110 [==============================] - 0s 1ms/step - loss: 0.0585 - accuracy: 0.9757\n",
      "Epoch 59/100\n",
      "110/110 [==============================] - 0s 1ms/step - loss: 0.0567 - accuracy: 0.9797\n",
      "Epoch 60/100\n",
      "110/110 [==============================] - 0s 1ms/step - loss: 0.0591 - accuracy: 0.9749\n",
      "Epoch 61/100\n",
      "110/110 [==============================] - 0s 1ms/step - loss: 0.0573 - accuracy: 0.9757\n",
      "Epoch 62/100\n",
      "110/110 [==============================] - 0s 1ms/step - loss: 0.0583 - accuracy: 0.9751\n",
      "Epoch 63/100\n",
      "110/110 [==============================] - 0s 1ms/step - loss: 0.0599 - accuracy: 0.9757\n",
      "Epoch 64/100\n",
      "110/110 [==============================] - 0s 1ms/step - loss: 0.0586 - accuracy: 0.9749\n",
      "Epoch 65/100\n",
      "110/110 [==============================] - 0s 1ms/step - loss: 0.0565 - accuracy: 0.9771\n",
      "Epoch 66/100\n",
      "110/110 [==============================] - 0s 2ms/step - loss: 0.0628 - accuracy: 0.9737\n",
      "Epoch 67/100\n",
      "110/110 [==============================] - 0s 1ms/step - loss: 0.0595 - accuracy: 0.9754\n",
      "Epoch 68/100\n",
      "110/110 [==============================] - 0s 1ms/step - loss: 0.0572 - accuracy: 0.9749\n",
      "Epoch 69/100\n",
      "110/110 [==============================] - 0s 1ms/step - loss: 0.0564 - accuracy: 0.9760\n",
      "Epoch 70/100\n",
      "110/110 [==============================] - 0s 1ms/step - loss: 0.0583 - accuracy: 0.9754\n",
      "Epoch 71/100\n",
      "110/110 [==============================] - 0s 1ms/step - loss: 0.0576 - accuracy: 0.9749\n",
      "Epoch 72/100\n",
      "110/110 [==============================] - 0s 1ms/step - loss: 0.0589 - accuracy: 0.9751\n",
      "Epoch 73/100\n",
      "110/110 [==============================] - 0s 1ms/step - loss: 0.0683 - accuracy: 0.9711\n",
      "Epoch 74/100\n",
      "110/110 [==============================] - 0s 1ms/step - loss: 0.0646 - accuracy: 0.9734\n",
      "Epoch 75/100\n",
      "110/110 [==============================] - 0s 1ms/step - loss: 0.0594 - accuracy: 0.9749\n",
      "Epoch 76/100\n",
      "110/110 [==============================] - 0s 1ms/step - loss: 0.0588 - accuracy: 0.9751\n",
      "Epoch 77/100\n",
      "110/110 [==============================] - 0s 1ms/step - loss: 0.0557 - accuracy: 0.9766\n",
      "Epoch 78/100\n",
      "110/110 [==============================] - 0s 1ms/step - loss: 0.0566 - accuracy: 0.9751\n",
      "Epoch 79/100\n",
      "110/110 [==============================] - 0s 1ms/step - loss: 0.0615 - accuracy: 0.9734\n",
      "Epoch 80/100\n",
      "110/110 [==============================] - 0s 1ms/step - loss: 0.0614 - accuracy: 0.9751\n",
      "Epoch 81/100\n",
      "110/110 [==============================] - 0s 1ms/step - loss: 0.0588 - accuracy: 0.9760\n",
      "Epoch 82/100\n",
      "110/110 [==============================] - 0s 1ms/step - loss: 0.0565 - accuracy: 0.9766\n",
      "Epoch 83/100\n",
      "110/110 [==============================] - 0s 1ms/step - loss: 0.0543 - accuracy: 0.9777\n",
      "Epoch 84/100\n",
      "110/110 [==============================] - 0s 991us/step - loss: 0.0577 - accuracy: 0.9766\n",
      "Epoch 85/100\n",
      "110/110 [==============================] - 0s 1ms/step - loss: 0.0581 - accuracy: 0.9740\n",
      "Epoch 86/100\n",
      "110/110 [==============================] - 0s 1ms/step - loss: 0.0558 - accuracy: 0.9780\n",
      "Epoch 87/100\n",
      "110/110 [==============================] - 0s 1ms/step - loss: 0.0572 - accuracy: 0.9740\n",
      "Epoch 88/100\n",
      "110/110 [==============================] - 0s 1ms/step - loss: 0.0574 - accuracy: 0.9737\n",
      "Epoch 89/100\n",
      "110/110 [==============================] - 0s 991us/step - loss: 0.0564 - accuracy: 0.9754\n",
      "Epoch 90/100\n",
      "110/110 [==============================] - 0s 1ms/step - loss: 0.0584 - accuracy: 0.9757\n",
      "Epoch 91/100\n",
      "110/110 [==============================] - 0s 1ms/step - loss: 0.0553 - accuracy: 0.9780\n",
      "Epoch 92/100\n",
      "110/110 [==============================] - 0s 991us/step - loss: 0.0575 - accuracy: 0.9754\n",
      "Epoch 93/100\n",
      "110/110 [==============================] - 0s 992us/step - loss: 0.0584 - accuracy: 0.9754\n",
      "Epoch 94/100\n",
      "110/110 [==============================] - 0s 1ms/step - loss: 0.0565 - accuracy: 0.9757\n",
      "Epoch 95/100\n",
      "110/110 [==============================] - 0s 1ms/step - loss: 0.0584 - accuracy: 0.9734\n",
      "Epoch 96/100\n",
      "110/110 [==============================] - 0s 1ms/step - loss: 0.0621 - accuracy: 0.9737\n",
      "Epoch 97/100\n",
      "110/110 [==============================] - 0s 1ms/step - loss: 0.0590 - accuracy: 0.9746\n",
      "Epoch 98/100\n",
      "110/110 [==============================] - 0s 1ms/step - loss: 0.0565 - accuracy: 0.9780\n",
      "Epoch 99/100\n",
      "110/110 [==============================] - 0s 1ms/step - loss: 0.0577 - accuracy: 0.9757\n",
      "Epoch 100/100\n",
      "110/110 [==============================] - 0s 1ms/step - loss: 0.0581 - accuracy: 0.9760\n"
     ]
    },
    {
     "data": {
      "text/plain": [
       "<tensorflow.python.keras.callbacks.History at 0x1fbb3c3e3a0>"
      ]
     },
     "execution_count": 41,
     "metadata": {},
     "output_type": "execute_result"
    }
   ],
   "source": [
    "model.fit(x_train,y_train, epochs=100)"
   ]
  },
  {
   "cell_type": "code",
   "execution_count": 42,
   "metadata": {},
   "outputs": [
    {
     "data": {
      "text/plain": [
       "{'loss': [0.9891489744186401,\n",
       "  0.47859522700309753,\n",
       "  0.32097941637039185,\n",
       "  0.24728722870349884,\n",
       "  0.19764994084835052,\n",
       "  0.15925590693950653,\n",
       "  0.13191546499729156,\n",
       "  0.11385338753461838,\n",
       "  0.097459577023983,\n",
       "  0.08972614258527756,\n",
       "  0.08345649391412735,\n",
       "  0.07958626002073288,\n",
       "  0.07416176795959473,\n",
       "  0.07192113250494003,\n",
       "  0.07256694883108139,\n",
       "  0.07242980599403381,\n",
       "  0.06866021454334259,\n",
       "  0.0713840201497078,\n",
       "  0.06751521676778793,\n",
       "  0.06516479700803757,\n",
       "  0.06414775550365448,\n",
       "  0.06449809670448303,\n",
       "  0.06797787547111511,\n",
       "  0.06434059143066406,\n",
       "  0.06312784552574158,\n",
       "  0.06105877086520195,\n",
       "  0.06762907654047012,\n",
       "  0.06381414085626602,\n",
       "  0.06109587475657463,\n",
       "  0.059819262474775314,\n",
       "  0.06325384229421616,\n",
       "  0.0623902902007103,\n",
       "  0.06051557883620262,\n",
       "  0.06230306625366211,\n",
       "  0.06093095988035202,\n",
       "  0.05955140292644501,\n",
       "  0.0627780333161354,\n",
       "  0.06255026161670685,\n",
       "  0.06232710927724838,\n",
       "  0.060923051089048386,\n",
       "  0.05958195775747299,\n",
       "  0.06149837002158165,\n",
       "  0.059405017644166946,\n",
       "  0.06038855388760567,\n",
       "  0.06257174909114838,\n",
       "  0.059150464832782745,\n",
       "  0.06200990453362465,\n",
       "  0.057773690670728683,\n",
       "  0.05829165130853653,\n",
       "  0.05671071633696556,\n",
       "  0.05881453678011894,\n",
       "  0.060199253261089325,\n",
       "  0.05850078538060188,\n",
       "  0.05938367173075676,\n",
       "  0.05813352391123772,\n",
       "  0.05937721207737923,\n",
       "  0.058188650757074356,\n",
       "  0.058500707149505615,\n",
       "  0.056657735258340836,\n",
       "  0.05912439525127411,\n",
       "  0.05729563161730766,\n",
       "  0.05830267816781998,\n",
       "  0.05985849350690842,\n",
       "  0.05864330008625984,\n",
       "  0.056476473808288574,\n",
       "  0.06280472874641418,\n",
       "  0.05954824760556221,\n",
       "  0.057155586779117584,\n",
       "  0.056386977434158325,\n",
       "  0.05828302726149559,\n",
       "  0.05764172226190567,\n",
       "  0.058911699801683426,\n",
       "  0.06827109307050705,\n",
       "  0.06462310999631882,\n",
       "  0.05937017872929573,\n",
       "  0.058779027312994,\n",
       "  0.05567176640033722,\n",
       "  0.05664829909801483,\n",
       "  0.06148945540189743,\n",
       "  0.061403367668390274,\n",
       "  0.058804888278245926,\n",
       "  0.05649283155798912,\n",
       "  0.05427837744355202,\n",
       "  0.05772438645362854,\n",
       "  0.05811718851327896,\n",
       "  0.055806342512369156,\n",
       "  0.057223763316869736,\n",
       "  0.05735739320516586,\n",
       "  0.05641864985227585,\n",
       "  0.058351725339889526,\n",
       "  0.05530829727649689,\n",
       "  0.05753334239125252,\n",
       "  0.058350879698991776,\n",
       "  0.0565432608127594,\n",
       "  0.05838039144873619,\n",
       "  0.06212801858782768,\n",
       "  0.05901497229933739,\n",
       "  0.05653712525963783,\n",
       "  0.05765558406710625,\n",
       "  0.058110181242227554],\n",
       " 'accuracy': [0.7325714230537415,\n",
       "  0.8917142748832703,\n",
       "  0.9131428599357605,\n",
       "  0.9214285612106323,\n",
       "  0.9342857003211975,\n",
       "  0.949999988079071,\n",
       "  0.9597142934799194,\n",
       "  0.9648571610450745,\n",
       "  0.9668571352958679,\n",
       "  0.9662857055664062,\n",
       "  0.9679999947547913,\n",
       "  0.9691428542137146,\n",
       "  0.9711428284645081,\n",
       "  0.973714292049408,\n",
       "  0.9722856879234314,\n",
       "  0.972000002861023,\n",
       "  0.9711428284645081,\n",
       "  0.9725714325904846,\n",
       "  0.9717142581939697,\n",
       "  0.9742857217788696,\n",
       "  0.9742857217788696,\n",
       "  0.9739999771118164,\n",
       "  0.9717142581939697,\n",
       "  0.9731428623199463,\n",
       "  0.9760000109672546,\n",
       "  0.9748571515083313,\n",
       "  0.972000002861023,\n",
       "  0.9751428365707397,\n",
       "  0.9728571176528931,\n",
       "  0.9757142663002014,\n",
       "  0.9725714325904846,\n",
       "  0.9760000109672546,\n",
       "  0.9745714068412781,\n",
       "  0.9725714325904846,\n",
       "  0.9745714068412781,\n",
       "  0.9762856960296631,\n",
       "  0.9739999771118164,\n",
       "  0.9739999771118164,\n",
       "  0.975428581237793,\n",
       "  0.9722856879234314,\n",
       "  0.9762856960296631,\n",
       "  0.9739999771118164,\n",
       "  0.975428581237793,\n",
       "  0.9774285554885864,\n",
       "  0.9734285473823547,\n",
       "  0.9760000109672546,\n",
       "  0.973714292049408,\n",
       "  0.9757142663002014,\n",
       "  0.975428581237793,\n",
       "  0.9751428365707397,\n",
       "  0.9757142663002014,\n",
       "  0.973714292049408,\n",
       "  0.9765714406967163,\n",
       "  0.975428581237793,\n",
       "  0.9774285554885864,\n",
       "  0.9757142663002014,\n",
       "  0.9748571515083313,\n",
       "  0.9757142663002014,\n",
       "  0.9797142744064331,\n",
       "  0.9748571515083313,\n",
       "  0.9757142663002014,\n",
       "  0.9751428365707397,\n",
       "  0.9757142663002014,\n",
       "  0.9748571515083313,\n",
       "  0.977142870426178,\n",
       "  0.973714292049408,\n",
       "  0.975428581237793,\n",
       "  0.9748571515083313,\n",
       "  0.9760000109672546,\n",
       "  0.975428581237793,\n",
       "  0.9748571515083313,\n",
       "  0.9751428365707397,\n",
       "  0.9711428284645081,\n",
       "  0.9734285473823547,\n",
       "  0.9748571515083313,\n",
       "  0.9751428365707397,\n",
       "  0.9765714406967163,\n",
       "  0.9751428365707397,\n",
       "  0.9734285473823547,\n",
       "  0.9751428365707397,\n",
       "  0.9760000109672546,\n",
       "  0.9765714406967163,\n",
       "  0.9777143001556396,\n",
       "  0.9765714406967163,\n",
       "  0.9739999771118164,\n",
       "  0.9779999852180481,\n",
       "  0.9739999771118164,\n",
       "  0.973714292049408,\n",
       "  0.975428581237793,\n",
       "  0.9757142663002014,\n",
       "  0.9779999852180481,\n",
       "  0.975428581237793,\n",
       "  0.975428581237793,\n",
       "  0.9757142663002014,\n",
       "  0.9734285473823547,\n",
       "  0.973714292049408,\n",
       "  0.9745714068412781,\n",
       "  0.9779999852180481,\n",
       "  0.9757142663002014,\n",
       "  0.9760000109672546]}"
      ]
     },
     "execution_count": 42,
     "metadata": {},
     "output_type": "execute_result"
    }
   ],
   "source": [
    "model.history.history"
   ]
  },
  {
   "cell_type": "code",
   "execution_count": 43,
   "metadata": {},
   "outputs": [],
   "source": [
    "loss = model.history.history['loss']"
   ]
  },
  {
   "cell_type": "code",
   "execution_count": 44,
   "metadata": {},
   "outputs": [
    {
     "data": {
      "text/plain": [
       "<function matplotlib.pyplot.show(close=None, block=None)>"
      ]
     },
     "execution_count": 44,
     "metadata": {},
     "output_type": "execute_result"
    },
    {
     "data": {
      "image/png": "[encoded data removed]",
      "text/plain": [
       "<Figure size 432x288 with 1 Axes>"
      ]
     },
     "metadata": {
      "needs_background": "light"
     },
     "output_type": "display_data"
    }
   ],
   "source": [
    "plt.plot(loss)\n",
    "plt.xlabel('Epoch')\n",
    "plt.ylabel('Loss')\n",
    "plt.show"
   ]
  },
  {
   "cell_type": "code",
   "execution_count": 45,
   "metadata": {},
   "outputs": [],
   "source": [
    "accuracy = model.history.history['accuracy']"
   ]
  },
  {
   "cell_type": "code",
   "execution_count": 46,
   "metadata": {},
   "outputs": [
    {
     "data": {
      "text/plain": [
       "<function matplotlib.pyplot.show(close=None, block=None)>"
      ]
     },
     "execution_count": 46,
     "metadata": {},
     "output_type": "execute_result"
    },
    {
     "data": {
      "image/png": "[encoded data removed]",
      "text/plain": [
       "<Figure size 432x288 with 1 Axes>"
      ]
     },
     "metadata": {
      "needs_background": "light"
     },
     "output_type": "display_data"
    }
   ],
   "source": [
    "plt.plot(accuracy)\n",
    "plt.xlabel('Epoch')\n",
    "plt.ylabel('Accuracy')\n",
    "plt.show"
   ]
  },
  {
   "cell_type": "code",
   "execution_count": 47,
   "metadata": {},
   "outputs": [
    {
     "name": "stdout",
     "output_type": "stream",
     "text": [
      "47/47 [==============================] - 0s 1ms/step - loss: 0.0783 - accuracy: 0.9687\n"
     ]
    },
    {
     "data": {
      "text/plain": [
       "[0.07826024293899536, 0.968666672706604]"
      ]
     },
     "execution_count": 47,
     "metadata": {},
     "output_type": "execute_result"
    }
   ],
   "source": [
    "model.evaluate(x_test,y_test)"
   ]
  },
  {
   "cell_type": "code",
   "execution_count": 48,
   "metadata": {},
   "outputs": [
    {
     "name": "stdout",
     "output_type": "stream",
     "text": [
      "Test Predictions : [0 2 4 ... 0 0 0]\n",
      "Actual Output :         0    1    2    3    4\n",
      "3457  1.0  0.0  0.0  0.0  0.0\n",
      "1388  0.0  0.0  1.0  0.0  0.0\n",
      "4695  0.0  0.0  0.0  0.0  1.0\n",
      "4520  0.0  0.0  0.0  0.0  1.0\n",
      "4983  0.0  0.0  0.0  0.0  1.0\n",
      "...   ...  ...  ...  ...  ...\n",
      "3205  1.0  0.0  0.0  0.0  0.0\n",
      "326   0.0  1.0  0.0  0.0  0.0\n",
      "3028  1.0  0.0  0.0  0.0  0.0\n",
      "3770  1.0  0.0  0.0  0.0  0.0\n",
      "3483  1.0  0.0  0.0  0.0  0.0\n",
      "\n",
      "[1500 rows x 5 columns]\n"
     ]
    }
   ],
   "source": [
    "prediction = model.predict(x_test)\n",
    "newPrediction = np.argmax(prediction, axis = 1)\n",
    "newPrediction\n",
    "print(f'Test Predictions : {newPrediction}')\n",
    "print(f'Actual Output : {y_test}')"
   ]
  },
  {
   "cell_type": "code",
   "execution_count": 49,
   "metadata": {},
   "outputs": [
    {
     "data": {
      "text/plain": [
       "array([[4.9028057e-04, 4.3698028e-01, 7.9961225e-02, 1.7105961e-07,\n",
       "        9.9482574e+01]], dtype=float32)"
      ]
     },
     "execution_count": 49,
     "metadata": {},
     "output_type": "execute_result"
    }
   ],
   "source": [
    "model.predict([[500, 180, 220, 90, 10]]) * 100"
   ]
  },
  {
   "cell_type": "code",
   "execution_count": 50,
   "metadata": {},
   "outputs": [],
   "source": [
    "model.save(\"fruits_classifier.h5\")"
   ]
  },
  {
   "cell_type": "code",
   "execution_count": 51,
   "metadata": {},
   "outputs": [
    {
     "data": {
      "text/plain": [
       "array([[4.9028058e-06, 4.3698028e-03, 7.9961226e-04, 1.7105961e-09,\n",
       "        9.9482572e-01]], dtype=float32)"
      ]
     },
     "execution_count": 51,
     "metadata": {},
     "output_type": "execute_result"
    }
   ],
   "source": [
    "model.predict([[500, 180, 220, 90, 10]])"
   ]
  },
  {
   "cell_type": "code",
   "execution_count": 52,
   "metadata": {},
   "outputs": [
    {
     "name": "stdout",
     "output_type": "stream",
     "text": [
      "0.9948821\n"
     ]
    }
   ],
   "source": [
    "result = model.predict([[185,49,49,10,110]])\n",
    "max = np.argmax(result, axis = 1)\n",
    "if result[0][max[0]] < 0.5:\n",
    "    print(\"Less\")\n",
    "    print(result[0][max[0]])\n",
    "else:\n",
    "    print(result[0][max[0]])"
   ]
  },
  {
   "cell_type": "code",
   "execution_count": 53,
   "metadata": {},
   "outputs": [
    {
     "data": {
      "text/plain": [
       "0.9948821"
      ]
     },
     "execution_count": 53,
     "metadata": {},
     "output_type": "execute_result"
    }
   ],
   "source": [
    "result[0][max[0]]"
   ]
  },
  {
   "cell_type": "code",
   "execution_count": 54,
   "metadata": {},
   "outputs": [
    {
     "data": {
      "text/plain": [
       "array([[6.4357378e-06, 9.9488211e-01, 5.1113116e-03, 1.6284972e-07,\n",
       "        8.7704166e-08]], dtype=float32)"
      ]
     },
     "execution_count": 54,
     "metadata": {},
     "output_type": "execute_result"
    }
   ],
   "source": [
    "result"
   ]
  },
  {
   "cell_type": "code",
   "execution_count": null,
   "metadata": {},
   "outputs": [],
   "source": []
  }
 ],
 "metadata": {
  "interpreter": {
   "hash": "0690c9409a5f399e1ed7cbbe34b5ccebf963c27bdf62ea48574343593a86e3c1"
  },
  "kernelspec": {
   "display_name": "Python 3.8.12 ('tensor')",
   "language": "python",
   "name": "python3"
  },
  "language_info": {
   "codemirror_mode": {
    "name": "ipython",
    "version": 3
   },
   "file_extension": ".py",
   "mimetype": "text/x-python",
   "name": "python",
   "nbconvert_exporter": "python",
   "pygments_lexer": "ipython3",
   "version": "3.8.12"
  },
  "orig_nbformat": 4
 },
 "nbformat": 4,
 "nbformat_minor": 2
}
